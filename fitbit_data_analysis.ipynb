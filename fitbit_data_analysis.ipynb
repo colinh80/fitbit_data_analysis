{
 "cells": [
  {
   "cell_type": "markdown",
   "id": "50b9bd64",
   "metadata": {},
   "source": [
    "# Fitbit Data Analysis"
   ]
  },
  {
   "cell_type": "markdown",
   "id": "302a412f",
   "metadata": {},
   "source": [
    "### About the data\n",
    "\n",
    "This is a data set from the company BellaBeat, a tech manufacturer with health focused products and an emphasis on analyzing data from wearable health devices such as the Apple Watch, Fitbit, or Whoop Strap. This data set is a collection of samples from roughly 30 women who were continuously wearing a Fitbit device."
   ]
  },
  {
   "cell_type": "markdown",
   "id": "16f8b908",
   "metadata": {},
   "source": [
    "### Tasks\n",
    "\n",
    "1. Identify trends in device usage\n",
    "1. Explore application of these trends to benefit the user through recommendations\n",
    "1. Explore trends for marketing strategy and potential for future growth"
   ]
  },
  {
   "cell_type": "code",
   "execution_count": 4,
   "id": "84188610",
   "metadata": {},
   "outputs": [],
   "source": [
    "# import libraries\n",
    "\n",
    "import pandas as pd\n",
    "import numpy as np\n",
    "import seaborn as sns\n",
    "import matplotlib.pyplot as plt\n",
    "import matplotlib.mlab as mlab\n",
    "import matplotlib\n",
    "plt.style.use('ggplot')\n",
    "from matplotlib.pyplot import figure\n",
    "from IPython.core.interactiveshell import InteractiveShell\n",
    "InteractiveShell.ast_node_interactivity = \"all\"\n",
    "%matplotlib inline\n",
    "pd.options.mode.chained_assignment = None\n"
   ]
  },
  {
   "cell_type": "markdown",
   "id": "7bb4b43e",
   "metadata": {},
   "source": [
    "### Import Data"
   ]
  },
  {
   "cell_type": "code",
   "execution_count": 5,
   "id": "7e112916",
   "metadata": {},
   "outputs": [],
   "source": [
    "activity = pd.read_csv('/Users/colinhicks/Documents/data_science/data_sets/fitbit_tracker/fitabase_data/dailyActivity_merged.csv')\n",
    "calories = pd.read_csv('/Users/colinhicks/Documents/data_science/data_sets/fitbit_tracker/fitabase_data/hourlyCalories_merged.csv')\n",
    "intensities = pd.read_csv('/Users/colinhicks/Documents/data_science/data_sets/fitbit_tracker/fitabase_data/hourlyIntensities_merged.csv')\n",
    "sleep = pd.read_csv('/Users/colinhicks/Documents/data_science/data_sets/fitbit_tracker/fitabase_data/sleepDay_merged.csv')\n",
    "weight = pd.read_csv('/Users/colinhicks/Documents/data_science/data_sets/fitbit_tracker/fitabase_data/weightLogInfo_merged.csv')"
   ]
  },
  {
   "cell_type": "markdown",
   "id": "9c23f136",
   "metadata": {},
   "source": [
    " ### Data Cleaning"
   ]
  },
  {
   "cell_type": "code",
   "execution_count": 6,
   "id": "489652cf",
   "metadata": {},
   "outputs": [],
   "source": [
    "# convert dates to datetime format and seperate date and time if needed.\n",
    "\n",
    "activity['correctdate'] = pd.to_datetime(activity['ActivityDate'],\n",
    "                                         format = '%m/%d/%Y').dt.strftime('%Y-%m-%d')\n",
    "calories['correctdate'] = pd.to_datetime(calories['ActivityHour'],\n",
    "                                         format = '%m/%d/%Y %I:%M:%S %p').dt.strftime('%Y-%m-%d')\n",
    "calories['correcttime'] = pd.to_datetime(calories['ActivityHour'],\n",
    "                                         format = '%m/%d/%Y %I:%M:%S %p').dt.strftime('%H:%M:%S')\n",
    "intensities['correctdate'] = pd.to_datetime(intensities['ActivityHour'],\n",
    "                                         format = '%m/%d/%Y %I:%M:%S %p').dt.strftime('%Y-%m-%d')\n",
    "intensities['correcttime'] = pd.to_datetime(intensities['ActivityHour'],\n",
    "                                         format = '%m/%d/%Y %I:%M:%S %p').dt.strftime('%H:%M:%S')\n",
    "sleep['correctdate'] = pd.to_datetime(sleep['SleepDay'],\n",
    "                                         format = '%m/%d/%Y %H:%M:%S %p').dt.strftime('%Y-%m-%d')\n",
    "sleep['correcttime'] = pd.to_datetime(sleep['SleepDay'],\n",
    "                                         format = '%m/%d/%Y %H:%M:%S %p').dt.strftime('%H:%M:%S %p')\n",
    "weight['correctdate'] = pd.to_datetime(weight['Date'],\n",
    "                                         format = '%m/%d/%Y %H:%M:%S %p').dt.strftime('%Y-%m-%d')\n",
    "weight['correcttime'] = pd.to_datetime(weight['Date'],\n",
    "                                         format = '%m/%d/%Y %H:%M:%S %p').dt.strftime('%H:%M:%S %p')"
   ]
  },
  {
   "cell_type": "markdown",
   "id": "0d31c79f",
   "metadata": {},
   "source": [
    "### Exploratory Analysis"
   ]
  },
  {
   "cell_type": "code",
   "execution_count": 7,
   "id": "fdd103d8",
   "metadata": {},
   "outputs": [
    {
     "data": {
      "text/plain": [
       "33"
      ]
     },
     "execution_count": 7,
     "metadata": {},
     "output_type": "execute_result"
    },
    {
     "data": {
      "text/plain": [
       "33"
      ]
     },
     "execution_count": 7,
     "metadata": {},
     "output_type": "execute_result"
    },
    {
     "data": {
      "text/plain": [
       "33"
      ]
     },
     "execution_count": 7,
     "metadata": {},
     "output_type": "execute_result"
    },
    {
     "data": {
      "text/plain": [
       "24"
      ]
     },
     "execution_count": 7,
     "metadata": {},
     "output_type": "execute_result"
    },
    {
     "data": {
      "text/plain": [
       "8"
      ]
     },
     "execution_count": 7,
     "metadata": {},
     "output_type": "execute_result"
    }
   ],
   "source": [
    "# explore data\n",
    "\n",
    "activity['Id'].nunique()\n",
    "calories['Id'].nunique()\n",
    "intensities['Id'].nunique()\n",
    "sleep['Id'].nunique()\n",
    "weight['Id'].nunique()"
   ]
  },
  {
   "cell_type": "markdown",
   "id": "9e7b432c",
   "metadata": {},
   "source": [
    "After counting, it appears that the weight dataset only has 8 samples, while sleep has 24 and the rest contain 33 samples. Next we will summarize the data."
   ]
  },
  {
   "cell_type": "code",
   "execution_count": 8,
   "id": "661410f5",
   "metadata": {},
   "outputs": [
    {
     "name": "stdout",
     "output_type": "stream",
     "text": [
      "activity\n"
     ]
    },
    {
     "data": {
      "text/html": [
       "<div>\n",
       "<style scoped>\n",
       "    .dataframe tbody tr th:only-of-type {\n",
       "        vertical-align: middle;\n",
       "    }\n",
       "\n",
       "    .dataframe tbody tr th {\n",
       "        vertical-align: top;\n",
       "    }\n",
       "\n",
       "    .dataframe thead th {\n",
       "        text-align: right;\n",
       "    }\n",
       "</style>\n",
       "<table border=\"1\" class=\"dataframe\">\n",
       "  <thead>\n",
       "    <tr style=\"text-align: right;\">\n",
       "      <th></th>\n",
       "      <th>TotalSteps</th>\n",
       "      <th>TotalDistance</th>\n",
       "      <th>SedentaryMinutes</th>\n",
       "      <th>Calories</th>\n",
       "    </tr>\n",
       "  </thead>\n",
       "  <tbody>\n",
       "    <tr>\n",
       "      <th>count</th>\n",
       "      <td>940.000000</td>\n",
       "      <td>940.000000</td>\n",
       "      <td>940.000000</td>\n",
       "      <td>940.000000</td>\n",
       "    </tr>\n",
       "    <tr>\n",
       "      <th>mean</th>\n",
       "      <td>7637.910638</td>\n",
       "      <td>5.489702</td>\n",
       "      <td>991.210638</td>\n",
       "      <td>2303.609574</td>\n",
       "    </tr>\n",
       "    <tr>\n",
       "      <th>std</th>\n",
       "      <td>5087.150742</td>\n",
       "      <td>3.924606</td>\n",
       "      <td>301.267437</td>\n",
       "      <td>718.166862</td>\n",
       "    </tr>\n",
       "    <tr>\n",
       "      <th>min</th>\n",
       "      <td>0.000000</td>\n",
       "      <td>0.000000</td>\n",
       "      <td>0.000000</td>\n",
       "      <td>0.000000</td>\n",
       "    </tr>\n",
       "    <tr>\n",
       "      <th>25%</th>\n",
       "      <td>3789.750000</td>\n",
       "      <td>2.620000</td>\n",
       "      <td>729.750000</td>\n",
       "      <td>1828.500000</td>\n",
       "    </tr>\n",
       "    <tr>\n",
       "      <th>50%</th>\n",
       "      <td>7405.500000</td>\n",
       "      <td>5.245000</td>\n",
       "      <td>1057.500000</td>\n",
       "      <td>2134.000000</td>\n",
       "    </tr>\n",
       "    <tr>\n",
       "      <th>75%</th>\n",
       "      <td>10727.000000</td>\n",
       "      <td>7.712500</td>\n",
       "      <td>1229.500000</td>\n",
       "      <td>2793.250000</td>\n",
       "    </tr>\n",
       "    <tr>\n",
       "      <th>max</th>\n",
       "      <td>36019.000000</td>\n",
       "      <td>28.030001</td>\n",
       "      <td>1440.000000</td>\n",
       "      <td>4900.000000</td>\n",
       "    </tr>\n",
       "  </tbody>\n",
       "</table>\n",
       "</div>"
      ],
      "text/plain": [
       "         TotalSteps  TotalDistance  SedentaryMinutes     Calories\n",
       "count    940.000000     940.000000        940.000000   940.000000\n",
       "mean    7637.910638       5.489702        991.210638  2303.609574\n",
       "std     5087.150742       3.924606        301.267437   718.166862\n",
       "min        0.000000       0.000000          0.000000     0.000000\n",
       "25%     3789.750000       2.620000        729.750000  1828.500000\n",
       "50%     7405.500000       5.245000       1057.500000  2134.000000\n",
       "75%    10727.000000       7.712500       1229.500000  2793.250000\n",
       "max    36019.000000      28.030001       1440.000000  4900.000000"
      ]
     },
     "execution_count": 8,
     "metadata": {},
     "output_type": "execute_result"
    },
    {
     "name": "stdout",
     "output_type": "stream",
     "text": [
      "number of active minutes by category\n"
     ]
    },
    {
     "data": {
      "text/html": [
       "<div>\n",
       "<style scoped>\n",
       "    .dataframe tbody tr th:only-of-type {\n",
       "        vertical-align: middle;\n",
       "    }\n",
       "\n",
       "    .dataframe tbody tr th {\n",
       "        vertical-align: top;\n",
       "    }\n",
       "\n",
       "    .dataframe thead th {\n",
       "        text-align: right;\n",
       "    }\n",
       "</style>\n",
       "<table border=\"1\" class=\"dataframe\">\n",
       "  <thead>\n",
       "    <tr style=\"text-align: right;\">\n",
       "      <th></th>\n",
       "      <th>VeryActiveMinutes</th>\n",
       "      <th>FairlyActiveMinutes</th>\n",
       "      <th>LightlyActiveMinutes</th>\n",
       "    </tr>\n",
       "  </thead>\n",
       "  <tbody>\n",
       "    <tr>\n",
       "      <th>count</th>\n",
       "      <td>940.000000</td>\n",
       "      <td>940.000000</td>\n",
       "      <td>940.000000</td>\n",
       "    </tr>\n",
       "    <tr>\n",
       "      <th>mean</th>\n",
       "      <td>21.164894</td>\n",
       "      <td>13.564894</td>\n",
       "      <td>192.812766</td>\n",
       "    </tr>\n",
       "    <tr>\n",
       "      <th>std</th>\n",
       "      <td>32.844803</td>\n",
       "      <td>19.987404</td>\n",
       "      <td>109.174700</td>\n",
       "    </tr>\n",
       "    <tr>\n",
       "      <th>min</th>\n",
       "      <td>0.000000</td>\n",
       "      <td>0.000000</td>\n",
       "      <td>0.000000</td>\n",
       "    </tr>\n",
       "    <tr>\n",
       "      <th>25%</th>\n",
       "      <td>0.000000</td>\n",
       "      <td>0.000000</td>\n",
       "      <td>127.000000</td>\n",
       "    </tr>\n",
       "    <tr>\n",
       "      <th>50%</th>\n",
       "      <td>4.000000</td>\n",
       "      <td>6.000000</td>\n",
       "      <td>199.000000</td>\n",
       "    </tr>\n",
       "    <tr>\n",
       "      <th>75%</th>\n",
       "      <td>32.000000</td>\n",
       "      <td>19.000000</td>\n",
       "      <td>264.000000</td>\n",
       "    </tr>\n",
       "    <tr>\n",
       "      <th>max</th>\n",
       "      <td>210.000000</td>\n",
       "      <td>143.000000</td>\n",
       "      <td>518.000000</td>\n",
       "    </tr>\n",
       "  </tbody>\n",
       "</table>\n",
       "</div>"
      ],
      "text/plain": [
       "       VeryActiveMinutes  FairlyActiveMinutes  LightlyActiveMinutes\n",
       "count         940.000000           940.000000            940.000000\n",
       "mean           21.164894            13.564894            192.812766\n",
       "std            32.844803            19.987404            109.174700\n",
       "min             0.000000             0.000000              0.000000\n",
       "25%             0.000000             0.000000            127.000000\n",
       "50%             4.000000             6.000000            199.000000\n",
       "75%            32.000000            19.000000            264.000000\n",
       "max           210.000000           143.000000            518.000000"
      ]
     },
     "execution_count": 8,
     "metadata": {},
     "output_type": "execute_result"
    },
    {
     "name": "stdout",
     "output_type": "stream",
     "text": [
      "calories\n"
     ]
    },
    {
     "data": {
      "text/html": [
       "<div>\n",
       "<style scoped>\n",
       "    .dataframe tbody tr th:only-of-type {\n",
       "        vertical-align: middle;\n",
       "    }\n",
       "\n",
       "    .dataframe tbody tr th {\n",
       "        vertical-align: top;\n",
       "    }\n",
       "\n",
       "    .dataframe thead th {\n",
       "        text-align: right;\n",
       "    }\n",
       "</style>\n",
       "<table border=\"1\" class=\"dataframe\">\n",
       "  <thead>\n",
       "    <tr style=\"text-align: right;\">\n",
       "      <th></th>\n",
       "      <th>Calories</th>\n",
       "    </tr>\n",
       "  </thead>\n",
       "  <tbody>\n",
       "    <tr>\n",
       "      <th>count</th>\n",
       "      <td>22099.000000</td>\n",
       "    </tr>\n",
       "    <tr>\n",
       "      <th>mean</th>\n",
       "      <td>97.386760</td>\n",
       "    </tr>\n",
       "    <tr>\n",
       "      <th>std</th>\n",
       "      <td>60.702622</td>\n",
       "    </tr>\n",
       "    <tr>\n",
       "      <th>min</th>\n",
       "      <td>42.000000</td>\n",
       "    </tr>\n",
       "    <tr>\n",
       "      <th>25%</th>\n",
       "      <td>63.000000</td>\n",
       "    </tr>\n",
       "    <tr>\n",
       "      <th>50%</th>\n",
       "      <td>83.000000</td>\n",
       "    </tr>\n",
       "    <tr>\n",
       "      <th>75%</th>\n",
       "      <td>108.000000</td>\n",
       "    </tr>\n",
       "    <tr>\n",
       "      <th>max</th>\n",
       "      <td>948.000000</td>\n",
       "    </tr>\n",
       "  </tbody>\n",
       "</table>\n",
       "</div>"
      ],
      "text/plain": [
       "           Calories\n",
       "count  22099.000000\n",
       "mean      97.386760\n",
       "std       60.702622\n",
       "min       42.000000\n",
       "25%       63.000000\n",
       "50%       83.000000\n",
       "75%      108.000000\n",
       "max      948.000000"
      ]
     },
     "execution_count": 8,
     "metadata": {},
     "output_type": "execute_result"
    },
    {
     "name": "stdout",
     "output_type": "stream",
     "text": [
      "sleep\n"
     ]
    },
    {
     "data": {
      "text/html": [
       "<div>\n",
       "<style scoped>\n",
       "    .dataframe tbody tr th:only-of-type {\n",
       "        vertical-align: middle;\n",
       "    }\n",
       "\n",
       "    .dataframe tbody tr th {\n",
       "        vertical-align: top;\n",
       "    }\n",
       "\n",
       "    .dataframe thead th {\n",
       "        text-align: right;\n",
       "    }\n",
       "</style>\n",
       "<table border=\"1\" class=\"dataframe\">\n",
       "  <thead>\n",
       "    <tr style=\"text-align: right;\">\n",
       "      <th></th>\n",
       "      <th>TotalSleepRecords</th>\n",
       "      <th>TotalMinutesAsleep</th>\n",
       "      <th>TotalTimeInBed</th>\n",
       "    </tr>\n",
       "  </thead>\n",
       "  <tbody>\n",
       "    <tr>\n",
       "      <th>count</th>\n",
       "      <td>413.000000</td>\n",
       "      <td>413.000000</td>\n",
       "      <td>413.000000</td>\n",
       "    </tr>\n",
       "    <tr>\n",
       "      <th>mean</th>\n",
       "      <td>1.118644</td>\n",
       "      <td>419.467312</td>\n",
       "      <td>458.639225</td>\n",
       "    </tr>\n",
       "    <tr>\n",
       "      <th>std</th>\n",
       "      <td>0.345521</td>\n",
       "      <td>118.344679</td>\n",
       "      <td>127.101607</td>\n",
       "    </tr>\n",
       "    <tr>\n",
       "      <th>min</th>\n",
       "      <td>1.000000</td>\n",
       "      <td>58.000000</td>\n",
       "      <td>61.000000</td>\n",
       "    </tr>\n",
       "    <tr>\n",
       "      <th>25%</th>\n",
       "      <td>1.000000</td>\n",
       "      <td>361.000000</td>\n",
       "      <td>403.000000</td>\n",
       "    </tr>\n",
       "    <tr>\n",
       "      <th>50%</th>\n",
       "      <td>1.000000</td>\n",
       "      <td>433.000000</td>\n",
       "      <td>463.000000</td>\n",
       "    </tr>\n",
       "    <tr>\n",
       "      <th>75%</th>\n",
       "      <td>1.000000</td>\n",
       "      <td>490.000000</td>\n",
       "      <td>526.000000</td>\n",
       "    </tr>\n",
       "    <tr>\n",
       "      <th>max</th>\n",
       "      <td>3.000000</td>\n",
       "      <td>796.000000</td>\n",
       "      <td>961.000000</td>\n",
       "    </tr>\n",
       "  </tbody>\n",
       "</table>\n",
       "</div>"
      ],
      "text/plain": [
       "       TotalSleepRecords  TotalMinutesAsleep  TotalTimeInBed\n",
       "count         413.000000          413.000000      413.000000\n",
       "mean            1.118644          419.467312      458.639225\n",
       "std             0.345521          118.344679      127.101607\n",
       "min             1.000000           58.000000       61.000000\n",
       "25%             1.000000          361.000000      403.000000\n",
       "50%             1.000000          433.000000      463.000000\n",
       "75%             1.000000          490.000000      526.000000\n",
       "max             3.000000          796.000000      961.000000"
      ]
     },
     "execution_count": 8,
     "metadata": {},
     "output_type": "execute_result"
    }
   ],
   "source": [
    "# summarize the data\n",
    "print('activity')\n",
    "activity[['TotalSteps','TotalDistance', 'SedentaryMinutes','Calories']].describe()\n",
    "print('number of active minutes by category')\n",
    "activity[['VeryActiveMinutes','FairlyActiveMinutes', 'LightlyActiveMinutes']].describe()\n",
    "print('calories')\n",
    "calories[['Calories']].describe()\n",
    "print('sleep')\n",
    "sleep[['TotalSleepRecords','TotalMinutesAsleep','TotalTimeInBed']].describe()"
   ]
  },
  {
   "cell_type": "markdown",
   "id": "63f930f7",
   "metadata": {},
   "source": [
    "**Observations from the summary**\n",
    "\n",
    "- The average sedentary time is 991, or roughly 16 hours.\n",
    "    - Perhaps this is reasonable, with 8 hours or sleep and an 8 hour work day. However, it could still be a metric to improve upon.\n",
    "- The average amount of sleep is 419 minutes, or about 7 hours\n",
    "    - However, 25% of participants sleep for 361 minutes or less. That's under 6 hours per night which might not be optimal for recovery.\n"
   ]
  },
  {
   "cell_type": "markdown",
   "id": "a877d468",
   "metadata": {},
   "source": [
    "### Merge Data\n",
    "\n",
    "In order to visualize, I need to merge the data. I'll use the unique ID associated to each user and the \"correctdate\" column I created to join the sleep and activity datasets.  "
   ]
  },
  {
   "cell_type": "code",
   "execution_count": 9,
   "id": "bec790c7",
   "metadata": {},
   "outputs": [],
   "source": [
    "# merge data\n",
    "\n",
    "sleep_activity_df = pd.merge(activity, sleep, on=['Id', 'correctdate'])"
   ]
  },
  {
   "cell_type": "code",
   "execution_count": 10,
   "id": "f3b7db05",
   "metadata": {},
   "outputs": [
    {
     "data": {
      "text/html": [
       "<div>\n",
       "<style scoped>\n",
       "    .dataframe tbody tr th:only-of-type {\n",
       "        vertical-align: middle;\n",
       "    }\n",
       "\n",
       "    .dataframe tbody tr th {\n",
       "        vertical-align: top;\n",
       "    }\n",
       "\n",
       "    .dataframe thead th {\n",
       "        text-align: right;\n",
       "    }\n",
       "</style>\n",
       "<table border=\"1\" class=\"dataframe\">\n",
       "  <thead>\n",
       "    <tr style=\"text-align: right;\">\n",
       "      <th></th>\n",
       "      <th>Id</th>\n",
       "      <th>ActivityDate</th>\n",
       "      <th>TotalSteps</th>\n",
       "      <th>TotalDistance</th>\n",
       "      <th>TrackerDistance</th>\n",
       "      <th>LoggedActivitiesDistance</th>\n",
       "      <th>VeryActiveDistance</th>\n",
       "      <th>ModeratelyActiveDistance</th>\n",
       "      <th>LightActiveDistance</th>\n",
       "      <th>SedentaryActiveDistance</th>\n",
       "      <th>...</th>\n",
       "      <th>FairlyActiveMinutes</th>\n",
       "      <th>LightlyActiveMinutes</th>\n",
       "      <th>SedentaryMinutes</th>\n",
       "      <th>Calories</th>\n",
       "      <th>correctdate</th>\n",
       "      <th>SleepDay</th>\n",
       "      <th>TotalSleepRecords</th>\n",
       "      <th>TotalMinutesAsleep</th>\n",
       "      <th>TotalTimeInBed</th>\n",
       "      <th>correcttime</th>\n",
       "    </tr>\n",
       "  </thead>\n",
       "  <tbody>\n",
       "    <tr>\n",
       "      <th>0</th>\n",
       "      <td>1503960366</td>\n",
       "      <td>4/12/2016</td>\n",
       "      <td>13162</td>\n",
       "      <td>8.50</td>\n",
       "      <td>8.50</td>\n",
       "      <td>0.0</td>\n",
       "      <td>1.88</td>\n",
       "      <td>0.55</td>\n",
       "      <td>6.06</td>\n",
       "      <td>0.0</td>\n",
       "      <td>...</td>\n",
       "      <td>13</td>\n",
       "      <td>328</td>\n",
       "      <td>728</td>\n",
       "      <td>1985</td>\n",
       "      <td>2016-04-12</td>\n",
       "      <td>4/12/2016 12:00:00 AM</td>\n",
       "      <td>1</td>\n",
       "      <td>327</td>\n",
       "      <td>346</td>\n",
       "      <td>12:00:00 PM</td>\n",
       "    </tr>\n",
       "    <tr>\n",
       "      <th>1</th>\n",
       "      <td>1503960366</td>\n",
       "      <td>4/13/2016</td>\n",
       "      <td>10735</td>\n",
       "      <td>6.97</td>\n",
       "      <td>6.97</td>\n",
       "      <td>0.0</td>\n",
       "      <td>1.57</td>\n",
       "      <td>0.69</td>\n",
       "      <td>4.71</td>\n",
       "      <td>0.0</td>\n",
       "      <td>...</td>\n",
       "      <td>19</td>\n",
       "      <td>217</td>\n",
       "      <td>776</td>\n",
       "      <td>1797</td>\n",
       "      <td>2016-04-13</td>\n",
       "      <td>4/13/2016 12:00:00 AM</td>\n",
       "      <td>2</td>\n",
       "      <td>384</td>\n",
       "      <td>407</td>\n",
       "      <td>12:00:00 PM</td>\n",
       "    </tr>\n",
       "    <tr>\n",
       "      <th>2</th>\n",
       "      <td>1503960366</td>\n",
       "      <td>4/15/2016</td>\n",
       "      <td>9762</td>\n",
       "      <td>6.28</td>\n",
       "      <td>6.28</td>\n",
       "      <td>0.0</td>\n",
       "      <td>2.14</td>\n",
       "      <td>1.26</td>\n",
       "      <td>2.83</td>\n",
       "      <td>0.0</td>\n",
       "      <td>...</td>\n",
       "      <td>34</td>\n",
       "      <td>209</td>\n",
       "      <td>726</td>\n",
       "      <td>1745</td>\n",
       "      <td>2016-04-15</td>\n",
       "      <td>4/15/2016 12:00:00 AM</td>\n",
       "      <td>1</td>\n",
       "      <td>412</td>\n",
       "      <td>442</td>\n",
       "      <td>12:00:00 PM</td>\n",
       "    </tr>\n",
       "    <tr>\n",
       "      <th>3</th>\n",
       "      <td>1503960366</td>\n",
       "      <td>4/16/2016</td>\n",
       "      <td>12669</td>\n",
       "      <td>8.16</td>\n",
       "      <td>8.16</td>\n",
       "      <td>0.0</td>\n",
       "      <td>2.71</td>\n",
       "      <td>0.41</td>\n",
       "      <td>5.04</td>\n",
       "      <td>0.0</td>\n",
       "      <td>...</td>\n",
       "      <td>10</td>\n",
       "      <td>221</td>\n",
       "      <td>773</td>\n",
       "      <td>1863</td>\n",
       "      <td>2016-04-16</td>\n",
       "      <td>4/16/2016 12:00:00 AM</td>\n",
       "      <td>2</td>\n",
       "      <td>340</td>\n",
       "      <td>367</td>\n",
       "      <td>12:00:00 PM</td>\n",
       "    </tr>\n",
       "    <tr>\n",
       "      <th>4</th>\n",
       "      <td>1503960366</td>\n",
       "      <td>4/17/2016</td>\n",
       "      <td>9705</td>\n",
       "      <td>6.48</td>\n",
       "      <td>6.48</td>\n",
       "      <td>0.0</td>\n",
       "      <td>3.19</td>\n",
       "      <td>0.78</td>\n",
       "      <td>2.51</td>\n",
       "      <td>0.0</td>\n",
       "      <td>...</td>\n",
       "      <td>20</td>\n",
       "      <td>164</td>\n",
       "      <td>539</td>\n",
       "      <td>1728</td>\n",
       "      <td>2016-04-17</td>\n",
       "      <td>4/17/2016 12:00:00 AM</td>\n",
       "      <td>1</td>\n",
       "      <td>700</td>\n",
       "      <td>712</td>\n",
       "      <td>12:00:00 PM</td>\n",
       "    </tr>\n",
       "    <tr>\n",
       "      <th>...</th>\n",
       "      <td>...</td>\n",
       "      <td>...</td>\n",
       "      <td>...</td>\n",
       "      <td>...</td>\n",
       "      <td>...</td>\n",
       "      <td>...</td>\n",
       "      <td>...</td>\n",
       "      <td>...</td>\n",
       "      <td>...</td>\n",
       "      <td>...</td>\n",
       "      <td>...</td>\n",
       "      <td>...</td>\n",
       "      <td>...</td>\n",
       "      <td>...</td>\n",
       "      <td>...</td>\n",
       "      <td>...</td>\n",
       "      <td>...</td>\n",
       "      <td>...</td>\n",
       "      <td>...</td>\n",
       "      <td>...</td>\n",
       "      <td>...</td>\n",
       "    </tr>\n",
       "    <tr>\n",
       "      <th>408</th>\n",
       "      <td>8792009665</td>\n",
       "      <td>4/30/2016</td>\n",
       "      <td>7174</td>\n",
       "      <td>4.59</td>\n",
       "      <td>4.59</td>\n",
       "      <td>0.0</td>\n",
       "      <td>0.33</td>\n",
       "      <td>0.36</td>\n",
       "      <td>3.91</td>\n",
       "      <td>0.0</td>\n",
       "      <td>...</td>\n",
       "      <td>20</td>\n",
       "      <td>301</td>\n",
       "      <td>749</td>\n",
       "      <td>2896</td>\n",
       "      <td>2016-04-30</td>\n",
       "      <td>4/30/2016 12:00:00 AM</td>\n",
       "      <td>1</td>\n",
       "      <td>343</td>\n",
       "      <td>360</td>\n",
       "      <td>12:00:00 PM</td>\n",
       "    </tr>\n",
       "    <tr>\n",
       "      <th>409</th>\n",
       "      <td>8792009665</td>\n",
       "      <td>5/1/2016</td>\n",
       "      <td>1619</td>\n",
       "      <td>1.04</td>\n",
       "      <td>1.04</td>\n",
       "      <td>0.0</td>\n",
       "      <td>0.00</td>\n",
       "      <td>0.00</td>\n",
       "      <td>1.04</td>\n",
       "      <td>0.0</td>\n",
       "      <td>...</td>\n",
       "      <td>0</td>\n",
       "      <td>79</td>\n",
       "      <td>834</td>\n",
       "      <td>1962</td>\n",
       "      <td>2016-05-01</td>\n",
       "      <td>5/1/2016 12:00:00 AM</td>\n",
       "      <td>1</td>\n",
       "      <td>503</td>\n",
       "      <td>527</td>\n",
       "      <td>12:00:00 PM</td>\n",
       "    </tr>\n",
       "    <tr>\n",
       "      <th>410</th>\n",
       "      <td>8792009665</td>\n",
       "      <td>5/2/2016</td>\n",
       "      <td>1831</td>\n",
       "      <td>1.17</td>\n",
       "      <td>1.17</td>\n",
       "      <td>0.0</td>\n",
       "      <td>0.00</td>\n",
       "      <td>0.00</td>\n",
       "      <td>1.17</td>\n",
       "      <td>0.0</td>\n",
       "      <td>...</td>\n",
       "      <td>0</td>\n",
       "      <td>101</td>\n",
       "      <td>916</td>\n",
       "      <td>2015</td>\n",
       "      <td>2016-05-02</td>\n",
       "      <td>5/2/2016 12:00:00 AM</td>\n",
       "      <td>1</td>\n",
       "      <td>415</td>\n",
       "      <td>423</td>\n",
       "      <td>12:00:00 PM</td>\n",
       "    </tr>\n",
       "    <tr>\n",
       "      <th>411</th>\n",
       "      <td>8792009665</td>\n",
       "      <td>5/3/2016</td>\n",
       "      <td>2421</td>\n",
       "      <td>1.55</td>\n",
       "      <td>1.55</td>\n",
       "      <td>0.0</td>\n",
       "      <td>0.00</td>\n",
       "      <td>0.00</td>\n",
       "      <td>1.55</td>\n",
       "      <td>0.0</td>\n",
       "      <td>...</td>\n",
       "      <td>0</td>\n",
       "      <td>156</td>\n",
       "      <td>739</td>\n",
       "      <td>2297</td>\n",
       "      <td>2016-05-03</td>\n",
       "      <td>5/3/2016 12:00:00 AM</td>\n",
       "      <td>1</td>\n",
       "      <td>516</td>\n",
       "      <td>545</td>\n",
       "      <td>12:00:00 PM</td>\n",
       "    </tr>\n",
       "    <tr>\n",
       "      <th>412</th>\n",
       "      <td>8792009665</td>\n",
       "      <td>5/4/2016</td>\n",
       "      <td>2283</td>\n",
       "      <td>1.46</td>\n",
       "      <td>1.46</td>\n",
       "      <td>0.0</td>\n",
       "      <td>0.00</td>\n",
       "      <td>0.00</td>\n",
       "      <td>1.46</td>\n",
       "      <td>0.0</td>\n",
       "      <td>...</td>\n",
       "      <td>0</td>\n",
       "      <td>129</td>\n",
       "      <td>848</td>\n",
       "      <td>2067</td>\n",
       "      <td>2016-05-04</td>\n",
       "      <td>5/4/2016 12:00:00 AM</td>\n",
       "      <td>1</td>\n",
       "      <td>439</td>\n",
       "      <td>463</td>\n",
       "      <td>12:00:00 PM</td>\n",
       "    </tr>\n",
       "  </tbody>\n",
       "</table>\n",
       "<p>413 rows × 21 columns</p>\n",
       "</div>"
      ],
      "text/plain": [
       "             Id ActivityDate  TotalSteps  TotalDistance  TrackerDistance  \\\n",
       "0    1503960366    4/12/2016       13162           8.50             8.50   \n",
       "1    1503960366    4/13/2016       10735           6.97             6.97   \n",
       "2    1503960366    4/15/2016        9762           6.28             6.28   \n",
       "3    1503960366    4/16/2016       12669           8.16             8.16   \n",
       "4    1503960366    4/17/2016        9705           6.48             6.48   \n",
       "..          ...          ...         ...            ...              ...   \n",
       "408  8792009665    4/30/2016        7174           4.59             4.59   \n",
       "409  8792009665     5/1/2016        1619           1.04             1.04   \n",
       "410  8792009665     5/2/2016        1831           1.17             1.17   \n",
       "411  8792009665     5/3/2016        2421           1.55             1.55   \n",
       "412  8792009665     5/4/2016        2283           1.46             1.46   \n",
       "\n",
       "     LoggedActivitiesDistance  VeryActiveDistance  ModeratelyActiveDistance  \\\n",
       "0                         0.0                1.88                      0.55   \n",
       "1                         0.0                1.57                      0.69   \n",
       "2                         0.0                2.14                      1.26   \n",
       "3                         0.0                2.71                      0.41   \n",
       "4                         0.0                3.19                      0.78   \n",
       "..                        ...                 ...                       ...   \n",
       "408                       0.0                0.33                      0.36   \n",
       "409                       0.0                0.00                      0.00   \n",
       "410                       0.0                0.00                      0.00   \n",
       "411                       0.0                0.00                      0.00   \n",
       "412                       0.0                0.00                      0.00   \n",
       "\n",
       "     LightActiveDistance  SedentaryActiveDistance  ...  FairlyActiveMinutes  \\\n",
       "0                   6.06                      0.0  ...                   13   \n",
       "1                   4.71                      0.0  ...                   19   \n",
       "2                   2.83                      0.0  ...                   34   \n",
       "3                   5.04                      0.0  ...                   10   \n",
       "4                   2.51                      0.0  ...                   20   \n",
       "..                   ...                      ...  ...                  ...   \n",
       "408                 3.91                      0.0  ...                   20   \n",
       "409                 1.04                      0.0  ...                    0   \n",
       "410                 1.17                      0.0  ...                    0   \n",
       "411                 1.55                      0.0  ...                    0   \n",
       "412                 1.46                      0.0  ...                    0   \n",
       "\n",
       "     LightlyActiveMinutes  SedentaryMinutes  Calories  correctdate  \\\n",
       "0                     328               728      1985   2016-04-12   \n",
       "1                     217               776      1797   2016-04-13   \n",
       "2                     209               726      1745   2016-04-15   \n",
       "3                     221               773      1863   2016-04-16   \n",
       "4                     164               539      1728   2016-04-17   \n",
       "..                    ...               ...       ...          ...   \n",
       "408                   301               749      2896   2016-04-30   \n",
       "409                    79               834      1962   2016-05-01   \n",
       "410                   101               916      2015   2016-05-02   \n",
       "411                   156               739      2297   2016-05-03   \n",
       "412                   129               848      2067   2016-05-04   \n",
       "\n",
       "                  SleepDay TotalSleepRecords  TotalMinutesAsleep  \\\n",
       "0    4/12/2016 12:00:00 AM                 1                 327   \n",
       "1    4/13/2016 12:00:00 AM                 2                 384   \n",
       "2    4/15/2016 12:00:00 AM                 1                 412   \n",
       "3    4/16/2016 12:00:00 AM                 2                 340   \n",
       "4    4/17/2016 12:00:00 AM                 1                 700   \n",
       "..                     ...               ...                 ...   \n",
       "408  4/30/2016 12:00:00 AM                 1                 343   \n",
       "409   5/1/2016 12:00:00 AM                 1                 503   \n",
       "410   5/2/2016 12:00:00 AM                 1                 415   \n",
       "411   5/3/2016 12:00:00 AM                 1                 516   \n",
       "412   5/4/2016 12:00:00 AM                 1                 439   \n",
       "\n",
       "     TotalTimeInBed  correcttime  \n",
       "0               346  12:00:00 PM  \n",
       "1               407  12:00:00 PM  \n",
       "2               442  12:00:00 PM  \n",
       "3               367  12:00:00 PM  \n",
       "4               712  12:00:00 PM  \n",
       "..              ...          ...  \n",
       "408             360  12:00:00 PM  \n",
       "409             527  12:00:00 PM  \n",
       "410             423  12:00:00 PM  \n",
       "411             545  12:00:00 PM  \n",
       "412             463  12:00:00 PM  \n",
       "\n",
       "[413 rows x 21 columns]"
      ]
     },
     "execution_count": 10,
     "metadata": {},
     "output_type": "execute_result"
    }
   ],
   "source": [
    "sleep_activity_df"
   ]
  },
  {
   "cell_type": "code",
   "execution_count": 11,
   "id": "f2f212f7",
   "metadata": {},
   "outputs": [],
   "source": [
    "# drop unneeded columns\n",
    "sleep_activity_df = sleep_activity_df.drop(['ActivityDate','LoggedActivitiesDistance','TrackerDistance','SedentaryActiveDistance','SleepDay','correcttime'], axis = 1)"
   ]
  },
  {
   "cell_type": "code",
   "execution_count": 12,
   "id": "4db8b733",
   "metadata": {},
   "outputs": [
    {
     "data": {
      "text/html": [
       "<div>\n",
       "<style scoped>\n",
       "    .dataframe tbody tr th:only-of-type {\n",
       "        vertical-align: middle;\n",
       "    }\n",
       "\n",
       "    .dataframe tbody tr th {\n",
       "        vertical-align: top;\n",
       "    }\n",
       "\n",
       "    .dataframe thead th {\n",
       "        text-align: right;\n",
       "    }\n",
       "</style>\n",
       "<table border=\"1\" class=\"dataframe\">\n",
       "  <thead>\n",
       "    <tr style=\"text-align: right;\">\n",
       "      <th></th>\n",
       "      <th>Id</th>\n",
       "      <th>TotalSteps</th>\n",
       "      <th>TotalDistance</th>\n",
       "      <th>VeryActiveDistance</th>\n",
       "      <th>ModeratelyActiveDistance</th>\n",
       "      <th>LightActiveDistance</th>\n",
       "      <th>VeryActiveMinutes</th>\n",
       "      <th>FairlyActiveMinutes</th>\n",
       "      <th>LightlyActiveMinutes</th>\n",
       "      <th>SedentaryMinutes</th>\n",
       "      <th>Calories</th>\n",
       "      <th>correctdate</th>\n",
       "      <th>TotalSleepRecords</th>\n",
       "      <th>TotalMinutesAsleep</th>\n",
       "      <th>TotalTimeInBed</th>\n",
       "    </tr>\n",
       "  </thead>\n",
       "  <tbody>\n",
       "    <tr>\n",
       "      <th>0</th>\n",
       "      <td>1503960366</td>\n",
       "      <td>13162</td>\n",
       "      <td>8.50</td>\n",
       "      <td>1.88</td>\n",
       "      <td>0.55</td>\n",
       "      <td>6.06</td>\n",
       "      <td>25</td>\n",
       "      <td>13</td>\n",
       "      <td>328</td>\n",
       "      <td>728</td>\n",
       "      <td>1985</td>\n",
       "      <td>2016-04-12</td>\n",
       "      <td>1</td>\n",
       "      <td>327</td>\n",
       "      <td>346</td>\n",
       "    </tr>\n",
       "    <tr>\n",
       "      <th>1</th>\n",
       "      <td>1503960366</td>\n",
       "      <td>10735</td>\n",
       "      <td>6.97</td>\n",
       "      <td>1.57</td>\n",
       "      <td>0.69</td>\n",
       "      <td>4.71</td>\n",
       "      <td>21</td>\n",
       "      <td>19</td>\n",
       "      <td>217</td>\n",
       "      <td>776</td>\n",
       "      <td>1797</td>\n",
       "      <td>2016-04-13</td>\n",
       "      <td>2</td>\n",
       "      <td>384</td>\n",
       "      <td>407</td>\n",
       "    </tr>\n",
       "    <tr>\n",
       "      <th>2</th>\n",
       "      <td>1503960366</td>\n",
       "      <td>9762</td>\n",
       "      <td>6.28</td>\n",
       "      <td>2.14</td>\n",
       "      <td>1.26</td>\n",
       "      <td>2.83</td>\n",
       "      <td>29</td>\n",
       "      <td>34</td>\n",
       "      <td>209</td>\n",
       "      <td>726</td>\n",
       "      <td>1745</td>\n",
       "      <td>2016-04-15</td>\n",
       "      <td>1</td>\n",
       "      <td>412</td>\n",
       "      <td>442</td>\n",
       "    </tr>\n",
       "    <tr>\n",
       "      <th>3</th>\n",
       "      <td>1503960366</td>\n",
       "      <td>12669</td>\n",
       "      <td>8.16</td>\n",
       "      <td>2.71</td>\n",
       "      <td>0.41</td>\n",
       "      <td>5.04</td>\n",
       "      <td>36</td>\n",
       "      <td>10</td>\n",
       "      <td>221</td>\n",
       "      <td>773</td>\n",
       "      <td>1863</td>\n",
       "      <td>2016-04-16</td>\n",
       "      <td>2</td>\n",
       "      <td>340</td>\n",
       "      <td>367</td>\n",
       "    </tr>\n",
       "    <tr>\n",
       "      <th>4</th>\n",
       "      <td>1503960366</td>\n",
       "      <td>9705</td>\n",
       "      <td>6.48</td>\n",
       "      <td>3.19</td>\n",
       "      <td>0.78</td>\n",
       "      <td>2.51</td>\n",
       "      <td>38</td>\n",
       "      <td>20</td>\n",
       "      <td>164</td>\n",
       "      <td>539</td>\n",
       "      <td>1728</td>\n",
       "      <td>2016-04-17</td>\n",
       "      <td>1</td>\n",
       "      <td>700</td>\n",
       "      <td>712</td>\n",
       "    </tr>\n",
       "    <tr>\n",
       "      <th>...</th>\n",
       "      <td>...</td>\n",
       "      <td>...</td>\n",
       "      <td>...</td>\n",
       "      <td>...</td>\n",
       "      <td>...</td>\n",
       "      <td>...</td>\n",
       "      <td>...</td>\n",
       "      <td>...</td>\n",
       "      <td>...</td>\n",
       "      <td>...</td>\n",
       "      <td>...</td>\n",
       "      <td>...</td>\n",
       "      <td>...</td>\n",
       "      <td>...</td>\n",
       "      <td>...</td>\n",
       "    </tr>\n",
       "    <tr>\n",
       "      <th>408</th>\n",
       "      <td>8792009665</td>\n",
       "      <td>7174</td>\n",
       "      <td>4.59</td>\n",
       "      <td>0.33</td>\n",
       "      <td>0.36</td>\n",
       "      <td>3.91</td>\n",
       "      <td>10</td>\n",
       "      <td>20</td>\n",
       "      <td>301</td>\n",
       "      <td>749</td>\n",
       "      <td>2896</td>\n",
       "      <td>2016-04-30</td>\n",
       "      <td>1</td>\n",
       "      <td>343</td>\n",
       "      <td>360</td>\n",
       "    </tr>\n",
       "    <tr>\n",
       "      <th>409</th>\n",
       "      <td>8792009665</td>\n",
       "      <td>1619</td>\n",
       "      <td>1.04</td>\n",
       "      <td>0.00</td>\n",
       "      <td>0.00</td>\n",
       "      <td>1.04</td>\n",
       "      <td>0</td>\n",
       "      <td>0</td>\n",
       "      <td>79</td>\n",
       "      <td>834</td>\n",
       "      <td>1962</td>\n",
       "      <td>2016-05-01</td>\n",
       "      <td>1</td>\n",
       "      <td>503</td>\n",
       "      <td>527</td>\n",
       "    </tr>\n",
       "    <tr>\n",
       "      <th>410</th>\n",
       "      <td>8792009665</td>\n",
       "      <td>1831</td>\n",
       "      <td>1.17</td>\n",
       "      <td>0.00</td>\n",
       "      <td>0.00</td>\n",
       "      <td>1.17</td>\n",
       "      <td>0</td>\n",
       "      <td>0</td>\n",
       "      <td>101</td>\n",
       "      <td>916</td>\n",
       "      <td>2015</td>\n",
       "      <td>2016-05-02</td>\n",
       "      <td>1</td>\n",
       "      <td>415</td>\n",
       "      <td>423</td>\n",
       "    </tr>\n",
       "    <tr>\n",
       "      <th>411</th>\n",
       "      <td>8792009665</td>\n",
       "      <td>2421</td>\n",
       "      <td>1.55</td>\n",
       "      <td>0.00</td>\n",
       "      <td>0.00</td>\n",
       "      <td>1.55</td>\n",
       "      <td>0</td>\n",
       "      <td>0</td>\n",
       "      <td>156</td>\n",
       "      <td>739</td>\n",
       "      <td>2297</td>\n",
       "      <td>2016-05-03</td>\n",
       "      <td>1</td>\n",
       "      <td>516</td>\n",
       "      <td>545</td>\n",
       "    </tr>\n",
       "    <tr>\n",
       "      <th>412</th>\n",
       "      <td>8792009665</td>\n",
       "      <td>2283</td>\n",
       "      <td>1.46</td>\n",
       "      <td>0.00</td>\n",
       "      <td>0.00</td>\n",
       "      <td>1.46</td>\n",
       "      <td>0</td>\n",
       "      <td>0</td>\n",
       "      <td>129</td>\n",
       "      <td>848</td>\n",
       "      <td>2067</td>\n",
       "      <td>2016-05-04</td>\n",
       "      <td>1</td>\n",
       "      <td>439</td>\n",
       "      <td>463</td>\n",
       "    </tr>\n",
       "  </tbody>\n",
       "</table>\n",
       "<p>413 rows × 15 columns</p>\n",
       "</div>"
      ],
      "text/plain": [
       "             Id  TotalSteps  TotalDistance  VeryActiveDistance  \\\n",
       "0    1503960366       13162           8.50                1.88   \n",
       "1    1503960366       10735           6.97                1.57   \n",
       "2    1503960366        9762           6.28                2.14   \n",
       "3    1503960366       12669           8.16                2.71   \n",
       "4    1503960366        9705           6.48                3.19   \n",
       "..          ...         ...            ...                 ...   \n",
       "408  8792009665        7174           4.59                0.33   \n",
       "409  8792009665        1619           1.04                0.00   \n",
       "410  8792009665        1831           1.17                0.00   \n",
       "411  8792009665        2421           1.55                0.00   \n",
       "412  8792009665        2283           1.46                0.00   \n",
       "\n",
       "     ModeratelyActiveDistance  LightActiveDistance  VeryActiveMinutes  \\\n",
       "0                        0.55                 6.06                 25   \n",
       "1                        0.69                 4.71                 21   \n",
       "2                        1.26                 2.83                 29   \n",
       "3                        0.41                 5.04                 36   \n",
       "4                        0.78                 2.51                 38   \n",
       "..                        ...                  ...                ...   \n",
       "408                      0.36                 3.91                 10   \n",
       "409                      0.00                 1.04                  0   \n",
       "410                      0.00                 1.17                  0   \n",
       "411                      0.00                 1.55                  0   \n",
       "412                      0.00                 1.46                  0   \n",
       "\n",
       "     FairlyActiveMinutes  LightlyActiveMinutes  SedentaryMinutes  Calories  \\\n",
       "0                     13                   328               728      1985   \n",
       "1                     19                   217               776      1797   \n",
       "2                     34                   209               726      1745   \n",
       "3                     10                   221               773      1863   \n",
       "4                     20                   164               539      1728   \n",
       "..                   ...                   ...               ...       ...   \n",
       "408                   20                   301               749      2896   \n",
       "409                    0                    79               834      1962   \n",
       "410                    0                   101               916      2015   \n",
       "411                    0                   156               739      2297   \n",
       "412                    0                   129               848      2067   \n",
       "\n",
       "    correctdate  TotalSleepRecords  TotalMinutesAsleep  TotalTimeInBed  \n",
       "0    2016-04-12                  1                 327             346  \n",
       "1    2016-04-13                  2                 384             407  \n",
       "2    2016-04-15                  1                 412             442  \n",
       "3    2016-04-16                  2                 340             367  \n",
       "4    2016-04-17                  1                 700             712  \n",
       "..          ...                ...                 ...             ...  \n",
       "408  2016-04-30                  1                 343             360  \n",
       "409  2016-05-01                  1                 503             527  \n",
       "410  2016-05-02                  1                 415             423  \n",
       "411  2016-05-03                  1                 516             545  \n",
       "412  2016-05-04                  1                 439             463  \n",
       "\n",
       "[413 rows x 15 columns]"
      ]
     },
     "execution_count": 12,
     "metadata": {},
     "output_type": "execute_result"
    }
   ],
   "source": [
    "sleep_activity_df"
   ]
  },
  {
   "cell_type": "code",
   "execution_count": 13,
   "id": "65aed3af",
   "metadata": {},
   "outputs": [],
   "source": [
    "# rearrange columns\n",
    "\n",
    "sa_df_cleaned = sleep_activity_df.iloc[:413, [0,11,1,2,3,4,5,6,7,8,9,10,12,13,14]]"
   ]
  },
  {
   "cell_type": "code",
   "execution_count": 14,
   "id": "ed8b5f17",
   "metadata": {},
   "outputs": [
    {
     "data": {
      "text/html": [
       "<div>\n",
       "<style scoped>\n",
       "    .dataframe tbody tr th:only-of-type {\n",
       "        vertical-align: middle;\n",
       "    }\n",
       "\n",
       "    .dataframe tbody tr th {\n",
       "        vertical-align: top;\n",
       "    }\n",
       "\n",
       "    .dataframe thead th {\n",
       "        text-align: right;\n",
       "    }\n",
       "</style>\n",
       "<table border=\"1\" class=\"dataframe\">\n",
       "  <thead>\n",
       "    <tr style=\"text-align: right;\">\n",
       "      <th></th>\n",
       "      <th>Id</th>\n",
       "      <th>correctdate</th>\n",
       "      <th>TotalSteps</th>\n",
       "      <th>TotalDistance</th>\n",
       "      <th>VeryActiveDistance</th>\n",
       "      <th>ModeratelyActiveDistance</th>\n",
       "      <th>LightActiveDistance</th>\n",
       "      <th>VeryActiveMinutes</th>\n",
       "      <th>FairlyActiveMinutes</th>\n",
       "      <th>LightlyActiveMinutes</th>\n",
       "      <th>SedentaryMinutes</th>\n",
       "      <th>Calories</th>\n",
       "      <th>TotalSleepRecords</th>\n",
       "      <th>TotalMinutesAsleep</th>\n",
       "      <th>TotalTimeInBed</th>\n",
       "    </tr>\n",
       "  </thead>\n",
       "  <tbody>\n",
       "    <tr>\n",
       "      <th>0</th>\n",
       "      <td>1503960366</td>\n",
       "      <td>2016-04-12</td>\n",
       "      <td>13162</td>\n",
       "      <td>8.50</td>\n",
       "      <td>1.88</td>\n",
       "      <td>0.55</td>\n",
       "      <td>6.06</td>\n",
       "      <td>25</td>\n",
       "      <td>13</td>\n",
       "      <td>328</td>\n",
       "      <td>728</td>\n",
       "      <td>1985</td>\n",
       "      <td>1</td>\n",
       "      <td>327</td>\n",
       "      <td>346</td>\n",
       "    </tr>\n",
       "    <tr>\n",
       "      <th>1</th>\n",
       "      <td>1503960366</td>\n",
       "      <td>2016-04-13</td>\n",
       "      <td>10735</td>\n",
       "      <td>6.97</td>\n",
       "      <td>1.57</td>\n",
       "      <td>0.69</td>\n",
       "      <td>4.71</td>\n",
       "      <td>21</td>\n",
       "      <td>19</td>\n",
       "      <td>217</td>\n",
       "      <td>776</td>\n",
       "      <td>1797</td>\n",
       "      <td>2</td>\n",
       "      <td>384</td>\n",
       "      <td>407</td>\n",
       "    </tr>\n",
       "    <tr>\n",
       "      <th>2</th>\n",
       "      <td>1503960366</td>\n",
       "      <td>2016-04-15</td>\n",
       "      <td>9762</td>\n",
       "      <td>6.28</td>\n",
       "      <td>2.14</td>\n",
       "      <td>1.26</td>\n",
       "      <td>2.83</td>\n",
       "      <td>29</td>\n",
       "      <td>34</td>\n",
       "      <td>209</td>\n",
       "      <td>726</td>\n",
       "      <td>1745</td>\n",
       "      <td>1</td>\n",
       "      <td>412</td>\n",
       "      <td>442</td>\n",
       "    </tr>\n",
       "    <tr>\n",
       "      <th>3</th>\n",
       "      <td>1503960366</td>\n",
       "      <td>2016-04-16</td>\n",
       "      <td>12669</td>\n",
       "      <td>8.16</td>\n",
       "      <td>2.71</td>\n",
       "      <td>0.41</td>\n",
       "      <td>5.04</td>\n",
       "      <td>36</td>\n",
       "      <td>10</td>\n",
       "      <td>221</td>\n",
       "      <td>773</td>\n",
       "      <td>1863</td>\n",
       "      <td>2</td>\n",
       "      <td>340</td>\n",
       "      <td>367</td>\n",
       "    </tr>\n",
       "    <tr>\n",
       "      <th>4</th>\n",
       "      <td>1503960366</td>\n",
       "      <td>2016-04-17</td>\n",
       "      <td>9705</td>\n",
       "      <td>6.48</td>\n",
       "      <td>3.19</td>\n",
       "      <td>0.78</td>\n",
       "      <td>2.51</td>\n",
       "      <td>38</td>\n",
       "      <td>20</td>\n",
       "      <td>164</td>\n",
       "      <td>539</td>\n",
       "      <td>1728</td>\n",
       "      <td>1</td>\n",
       "      <td>700</td>\n",
       "      <td>712</td>\n",
       "    </tr>\n",
       "    <tr>\n",
       "      <th>...</th>\n",
       "      <td>...</td>\n",
       "      <td>...</td>\n",
       "      <td>...</td>\n",
       "      <td>...</td>\n",
       "      <td>...</td>\n",
       "      <td>...</td>\n",
       "      <td>...</td>\n",
       "      <td>...</td>\n",
       "      <td>...</td>\n",
       "      <td>...</td>\n",
       "      <td>...</td>\n",
       "      <td>...</td>\n",
       "      <td>...</td>\n",
       "      <td>...</td>\n",
       "      <td>...</td>\n",
       "    </tr>\n",
       "    <tr>\n",
       "      <th>408</th>\n",
       "      <td>8792009665</td>\n",
       "      <td>2016-04-30</td>\n",
       "      <td>7174</td>\n",
       "      <td>4.59</td>\n",
       "      <td>0.33</td>\n",
       "      <td>0.36</td>\n",
       "      <td>3.91</td>\n",
       "      <td>10</td>\n",
       "      <td>20</td>\n",
       "      <td>301</td>\n",
       "      <td>749</td>\n",
       "      <td>2896</td>\n",
       "      <td>1</td>\n",
       "      <td>343</td>\n",
       "      <td>360</td>\n",
       "    </tr>\n",
       "    <tr>\n",
       "      <th>409</th>\n",
       "      <td>8792009665</td>\n",
       "      <td>2016-05-01</td>\n",
       "      <td>1619</td>\n",
       "      <td>1.04</td>\n",
       "      <td>0.00</td>\n",
       "      <td>0.00</td>\n",
       "      <td>1.04</td>\n",
       "      <td>0</td>\n",
       "      <td>0</td>\n",
       "      <td>79</td>\n",
       "      <td>834</td>\n",
       "      <td>1962</td>\n",
       "      <td>1</td>\n",
       "      <td>503</td>\n",
       "      <td>527</td>\n",
       "    </tr>\n",
       "    <tr>\n",
       "      <th>410</th>\n",
       "      <td>8792009665</td>\n",
       "      <td>2016-05-02</td>\n",
       "      <td>1831</td>\n",
       "      <td>1.17</td>\n",
       "      <td>0.00</td>\n",
       "      <td>0.00</td>\n",
       "      <td>1.17</td>\n",
       "      <td>0</td>\n",
       "      <td>0</td>\n",
       "      <td>101</td>\n",
       "      <td>916</td>\n",
       "      <td>2015</td>\n",
       "      <td>1</td>\n",
       "      <td>415</td>\n",
       "      <td>423</td>\n",
       "    </tr>\n",
       "    <tr>\n",
       "      <th>411</th>\n",
       "      <td>8792009665</td>\n",
       "      <td>2016-05-03</td>\n",
       "      <td>2421</td>\n",
       "      <td>1.55</td>\n",
       "      <td>0.00</td>\n",
       "      <td>0.00</td>\n",
       "      <td>1.55</td>\n",
       "      <td>0</td>\n",
       "      <td>0</td>\n",
       "      <td>156</td>\n",
       "      <td>739</td>\n",
       "      <td>2297</td>\n",
       "      <td>1</td>\n",
       "      <td>516</td>\n",
       "      <td>545</td>\n",
       "    </tr>\n",
       "    <tr>\n",
       "      <th>412</th>\n",
       "      <td>8792009665</td>\n",
       "      <td>2016-05-04</td>\n",
       "      <td>2283</td>\n",
       "      <td>1.46</td>\n",
       "      <td>0.00</td>\n",
       "      <td>0.00</td>\n",
       "      <td>1.46</td>\n",
       "      <td>0</td>\n",
       "      <td>0</td>\n",
       "      <td>129</td>\n",
       "      <td>848</td>\n",
       "      <td>2067</td>\n",
       "      <td>1</td>\n",
       "      <td>439</td>\n",
       "      <td>463</td>\n",
       "    </tr>\n",
       "  </tbody>\n",
       "</table>\n",
       "<p>413 rows × 15 columns</p>\n",
       "</div>"
      ],
      "text/plain": [
       "             Id correctdate  TotalSteps  TotalDistance  VeryActiveDistance  \\\n",
       "0    1503960366  2016-04-12       13162           8.50                1.88   \n",
       "1    1503960366  2016-04-13       10735           6.97                1.57   \n",
       "2    1503960366  2016-04-15        9762           6.28                2.14   \n",
       "3    1503960366  2016-04-16       12669           8.16                2.71   \n",
       "4    1503960366  2016-04-17        9705           6.48                3.19   \n",
       "..          ...         ...         ...            ...                 ...   \n",
       "408  8792009665  2016-04-30        7174           4.59                0.33   \n",
       "409  8792009665  2016-05-01        1619           1.04                0.00   \n",
       "410  8792009665  2016-05-02        1831           1.17                0.00   \n",
       "411  8792009665  2016-05-03        2421           1.55                0.00   \n",
       "412  8792009665  2016-05-04        2283           1.46                0.00   \n",
       "\n",
       "     ModeratelyActiveDistance  LightActiveDistance  VeryActiveMinutes  \\\n",
       "0                        0.55                 6.06                 25   \n",
       "1                        0.69                 4.71                 21   \n",
       "2                        1.26                 2.83                 29   \n",
       "3                        0.41                 5.04                 36   \n",
       "4                        0.78                 2.51                 38   \n",
       "..                        ...                  ...                ...   \n",
       "408                      0.36                 3.91                 10   \n",
       "409                      0.00                 1.04                  0   \n",
       "410                      0.00                 1.17                  0   \n",
       "411                      0.00                 1.55                  0   \n",
       "412                      0.00                 1.46                  0   \n",
       "\n",
       "     FairlyActiveMinutes  LightlyActiveMinutes  SedentaryMinutes  Calories  \\\n",
       "0                     13                   328               728      1985   \n",
       "1                     19                   217               776      1797   \n",
       "2                     34                   209               726      1745   \n",
       "3                     10                   221               773      1863   \n",
       "4                     20                   164               539      1728   \n",
       "..                   ...                   ...               ...       ...   \n",
       "408                   20                   301               749      2896   \n",
       "409                    0                    79               834      1962   \n",
       "410                    0                   101               916      2015   \n",
       "411                    0                   156               739      2297   \n",
       "412                    0                   129               848      2067   \n",
       "\n",
       "     TotalSleepRecords  TotalMinutesAsleep  TotalTimeInBed  \n",
       "0                    1                 327             346  \n",
       "1                    2                 384             407  \n",
       "2                    1                 412             442  \n",
       "3                    2                 340             367  \n",
       "4                    1                 700             712  \n",
       "..                 ...                 ...             ...  \n",
       "408                  1                 343             360  \n",
       "409                  1                 503             527  \n",
       "410                  1                 415             423  \n",
       "411                  1                 516             545  \n",
       "412                  1                 439             463  \n",
       "\n",
       "[413 rows x 15 columns]"
      ]
     },
     "execution_count": 14,
     "metadata": {},
     "output_type": "execute_result"
    }
   ],
   "source": [
    "sa_df_cleaned"
   ]
  },
  {
   "cell_type": "markdown",
   "id": "b2aacb7f",
   "metadata": {},
   "source": [
    "### Visualize the Data"
   ]
  },
  {
   "cell_type": "code",
   "execution_count": 15,
   "id": "96c27260",
   "metadata": {},
   "outputs": [
    {
     "data": {
      "text/plain": [
       "<AxesSubplot:>"
      ]
     },
     "execution_count": 15,
     "metadata": {},
     "output_type": "execute_result"
    },
    {
     "data": {
      "text/plain": [
       "Text(0.5, 1.0, 'Correlation matrix for Sleep and Activity')"
      ]
     },
     "execution_count": 15,
     "metadata": {},
     "output_type": "execute_result"
    },
    {
     "data": {
      "text/plain": [
       "Text(0.5, 15.0, 'Sleep features')"
      ]
     },
     "execution_count": 15,
     "metadata": {},
     "output_type": "execute_result"
    },
    {
     "data": {
      "text/plain": [
       "Text(32.99999999999999, 0.5, 'Activity features')"
      ]
     },
     "execution_count": 15,
     "metadata": {},
     "output_type": "execute_result"
    },
    {
     "data": {
      "image/png": "[encoded data removed]",
      "text/plain": [
       "<Figure size 432x288 with 2 Axes>"
      ]
     },
     "metadata": {
      "needs_background": "light"
     },
     "output_type": "display_data"
    }
   ],
   "source": [
    "# pearson correlation heat map for features in sa_df_cleaned\n",
    "\n",
    "corr_matrix = sa_df_cleaned.iloc[0:413, [2,3,4,5,6,7,8,9,10,11,13,14]].apply(lambda x: x.factorize()[0]).corr(method='pearson')\n",
    "sns.heatmap(corr_matrix, annot = True)\n",
    "plt.title(\"Correlation matrix for Sleep and Activity\")\n",
    "plt.xlabel(\"Sleep features\")\n",
    "plt.ylabel(\"Activity features\")\n",
    "plt.show()"
   ]
  },
  {
   "cell_type": "code",
   "execution_count": 16,
   "id": "e7a45705",
   "metadata": {},
   "outputs": [
    {
     "data": {
      "text/plain": [
       "TotalTimeInBed        SedentaryMinutes     -0.618713\n",
       "SedentaryMinutes      TotalTimeInBed       -0.618713\n",
       "TotalMinutesAsleep    SedentaryMinutes     -0.599394\n",
       "SedentaryMinutes      TotalMinutesAsleep   -0.599394\n",
       "LightlyActiveMinutes  SedentaryMinutes     -0.264182\n",
       "                                              ...   \n",
       "VeryActiveDistance    VeryActiveDistance    1.000000\n",
       "TotalDistance         TotalDistance         1.000000\n",
       "TotalSteps            TotalSteps            1.000000\n",
       "TotalMinutesAsleep    TotalMinutesAsleep    1.000000\n",
       "TotalTimeInBed        TotalTimeInBed        1.000000\n",
       "Length: 196, dtype: float64"
      ]
     },
     "execution_count": 16,
     "metadata": {},
     "output_type": "execute_result"
    }
   ],
   "source": [
    "# sort correlations to see what is significant\n",
    "\n",
    "corr_mat = sa_df_cleaned.corr()\n",
    "corr_pairs = corr_mat.unstack()\n",
    "sorted_pairs = corr_pairs.sort_values()\n",
    "sorted_pairs\n"
   ]
  },
  {
   "cell_type": "code",
   "execution_count": 17,
   "id": "b3fedcb1",
   "metadata": {
    "scrolled": true
   },
   "outputs": [
    {
     "data": {
      "text/plain": [
       "VeryActiveMinutes         Calories                    0.610489\n",
       "Calories                  VeryActiveMinutes           0.610489\n",
       "VeryActiveDistance        TotalSteps                  0.677084\n",
       "TotalSteps                VeryActiveDistance          0.677084\n",
       "TotalDistance             VeryActiveDistance          0.702748\n",
       "VeryActiveDistance        TotalDistance               0.702748\n",
       "VeryActiveMinutes         VeryActiveDistance          0.850184\n",
       "VeryActiveDistance        VeryActiveMinutes           0.850184\n",
       "LightActiveDistance       LightlyActiveMinutes        0.853070\n",
       "LightlyActiveMinutes      LightActiveDistance         0.853070\n",
       "TotalTimeInBed            TotalMinutesAsleep          0.930457\n",
       "TotalMinutesAsleep        TotalTimeInBed              0.930457\n",
       "FairlyActiveMinutes       ModeratelyActiveDistance    0.945402\n",
       "ModeratelyActiveDistance  FairlyActiveMinutes         0.945402\n",
       "TotalDistance             TotalSteps                  0.981533\n",
       "TotalSteps                TotalDistance               0.981533\n",
       "dtype: float64"
      ]
     },
     "execution_count": 17,
     "metadata": {},
     "output_type": "execute_result"
    }
   ],
   "source": [
    "# filter for significant data\n",
    "high_corr = sorted_pairs[((sorted_pairs) > .6) & ((sorted_pairs) < 1)]\n",
    "high_corr"
   ]
  },
  {
   "cell_type": "markdown",
   "id": "8e28f377",
   "metadata": {},
   "source": [
    "Many of these highly correlated pairs seem obvious, such as Very Active Minutes correlate highly to Moderately Active Distance. However, I am interested in the Total Time In Bed and Total Minutes Asleep pair. I also want to look at some pairs that are less correlated but may offer some unique insight. Such as Total Steps paired with Calories. Or Total Minutes Asleep and Calories to see if burning more calories during the day will result in more sleep."
   ]
  },
  {
   "cell_type": "code",
   "execution_count": 26,
   "id": "e989001f",
   "metadata": {},
   "outputs": [
    {
     "name": "stderr",
     "output_type": "stream",
     "text": [
      "/Users/colinhicks/opt/anaconda3/lib/python3.8/site-packages/seaborn/_decorators.py:36: FutureWarning: Pass the following variables as keyword args: x, y. From version 0.12, the only valid positional argument will be `data`, and passing other arguments without an explicit keyword will result in an error or misinterpretation.\n",
      "  warnings.warn(\n"
     ]
    },
    {
     "data": {
      "text/plain": [
       "<AxesSubplot:xlabel='Calories', ylabel='TotalSteps'>"
      ]
     },
     "execution_count": 26,
     "metadata": {},
     "output_type": "execute_result"
    },
    {
     "data": {
      "text/plain": [
       "Text(0.5, 1.0, 'Correlation for Calories and TotalSteps')"
      ]
     },
     "execution_count": 26,
     "metadata": {},
     "output_type": "execute_result"
    },
    {
     "data": {
      "image/png": "[encoded data removed]",
      "text/plain": [
       "<Figure size 432x288 with 1 Axes>"
      ]
     },
     "metadata": {
      "needs_background": "light"
     },
     "output_type": "display_data"
    }
   ],
   "source": [
    "# visualize correlation between Calories and Total Steps\n",
    "x = sa_df_cleaned.Calories\n",
    "y = sa_df_cleaned.TotalSteps\n",
    "sns.regplot(x,y)\n",
    "plt.title(\"Correlation for Calories and TotalSteps\")"
   ]
  },
  {
   "cell_type": "markdown",
   "id": "c80b1567",
   "metadata": {},
   "source": [
    "I see a positive correlation with Total Steps and Calories."
   ]
  },
  {
   "cell_type": "code",
   "execution_count": 27,
   "id": "d8578c13",
   "metadata": {},
   "outputs": [
    {
     "name": "stderr",
     "output_type": "stream",
     "text": [
      "/Users/colinhicks/opt/anaconda3/lib/python3.8/site-packages/seaborn/_decorators.py:36: FutureWarning: Pass the following variables as keyword args: x, y. From version 0.12, the only valid positional argument will be `data`, and passing other arguments without an explicit keyword will result in an error or misinterpretation.\n",
      "  warnings.warn(\n"
     ]
    },
    {
     "data": {
      "text/plain": [
       "<AxesSubplot:xlabel='Calories', ylabel='TotalMinutesAsleep'>"
      ]
     },
     "execution_count": 27,
     "metadata": {},
     "output_type": "execute_result"
    },
    {
     "data": {
      "text/plain": [
       "Text(0.5, 1.0, 'Correlation for Calories and Total Minutes Asleep')"
      ]
     },
     "execution_count": 27,
     "metadata": {},
     "output_type": "execute_result"
    },
    {
     "data": {
      "image/png": "[encoded data removed]",
      "text/plain": [
       "<Figure size 432x288 with 1 Axes>"
      ]
     },
     "metadata": {
      "needs_background": "light"
     },
     "output_type": "display_data"
    }
   ],
   "source": [
    "# visualize correlation between Calories and Total Minutes Asleep\n",
    "y = sa_df_cleaned.TotalMinutesAsleep\n",
    "sns.regplot(x,y)\n",
    "plt.title(\"Correlation for Calories and Total Minutes Asleep\")"
   ]
  },
  {
   "cell_type": "markdown",
   "id": "9db0c813",
   "metadata": {},
   "source": [
    "I don't see much of a correlation between Total Minutes Asleep and Calories."
   ]
  },
  {
   "cell_type": "code",
   "execution_count": 28,
   "id": "dd6ae8c2",
   "metadata": {},
   "outputs": [
    {
     "name": "stderr",
     "output_type": "stream",
     "text": [
      "/Users/colinhicks/opt/anaconda3/lib/python3.8/site-packages/seaborn/_decorators.py:36: FutureWarning: Pass the following variables as keyword args: x, y. From version 0.12, the only valid positional argument will be `data`, and passing other arguments without an explicit keyword will result in an error or misinterpretation.\n",
      "  warnings.warn(\n"
     ]
    },
    {
     "data": {
      "text/plain": [
       "<AxesSubplot:xlabel='TotalTimeInBed', ylabel='TotalMinutesAsleep'>"
      ]
     },
     "execution_count": 28,
     "metadata": {},
     "output_type": "execute_result"
    },
    {
     "data": {
      "text/plain": [
       "Text(0.5, 1.0, 'Correlation for Total Time In Bed and Total Minutes Asleep')"
      ]
     },
     "execution_count": 28,
     "metadata": {},
     "output_type": "execute_result"
    },
    {
     "data": {
      "image/png": "[encoded data removed]",
      "text/plain": [
       "<Figure size 432x288 with 1 Axes>"
      ]
     },
     "metadata": {
      "needs_background": "light"
     },
     "output_type": "display_data"
    }
   ],
   "source": [
    "# visualize correlation between Total Time In Bed and Total Minutes Asleep\n",
    "\n",
    "x = sa_df_cleaned.TotalTimeInBed\n",
    "y = sa_df_cleaned.TotalMinutesAsleep\n",
    "sns.regplot(x,y)\n",
    "plt.title(\"Correlation for Total Time In Bed and Total Minutes Asleep\")"
   ]
  },
  {
   "cell_type": "markdown",
   "id": "a100ae91",
   "metadata": {},
   "source": [
    "There is certainly a strong positive correlation between Total Minutes Asleep and Total Time In Bed. This could indicate the benefits for a sleep reminder, as that could lead to an increase in time spent sleeping."
   ]
  },
  {
   "cell_type": "code",
   "execution_count": 29,
   "id": "5b6af6a3",
   "metadata": {},
   "outputs": [
    {
     "data": {
      "text/plain": [
       "<matplotlib.collections.PathCollection at 0x7fa5947eb1c0>"
      ]
     },
     "execution_count": 29,
     "metadata": {},
     "output_type": "execute_result"
    },
    {
     "data": {
      "text/plain": [
       "<matplotlib.collections.PathCollection at 0x7fa5947eb7f0>"
      ]
     },
     "execution_count": 29,
     "metadata": {},
     "output_type": "execute_result"
    },
    {
     "data": {
      "text/plain": [
       "<matplotlib.collections.PathCollection at 0x7fa5947eb580>"
      ]
     },
     "execution_count": 29,
     "metadata": {},
     "output_type": "execute_result"
    },
    {
     "name": "stderr",
     "output_type": "stream",
     "text": [
      "/Users/colinhicks/opt/anaconda3/lib/python3.8/site-packages/seaborn/_decorators.py:36: FutureWarning: Pass the following variables as keyword args: x, y. From version 0.12, the only valid positional argument will be `data`, and passing other arguments without an explicit keyword will result in an error or misinterpretation.\n",
      "  warnings.warn(\n"
     ]
    },
    {
     "data": {
      "text/plain": [
       "<AxesSubplot:xlabel='Calories', ylabel='VeryActiveMinutes'>"
      ]
     },
     "execution_count": 29,
     "metadata": {},
     "output_type": "execute_result"
    },
    {
     "name": "stderr",
     "output_type": "stream",
     "text": [
      "/Users/colinhicks/opt/anaconda3/lib/python3.8/site-packages/seaborn/_decorators.py:36: FutureWarning: Pass the following variables as keyword args: x, y. From version 0.12, the only valid positional argument will be `data`, and passing other arguments without an explicit keyword will result in an error or misinterpretation.\n",
      "  warnings.warn(\n"
     ]
    },
    {
     "data": {
      "text/plain": [
       "<AxesSubplot:xlabel='Calories', ylabel='FairlyActiveMinutes'>"
      ]
     },
     "execution_count": 29,
     "metadata": {},
     "output_type": "execute_result"
    },
    {
     "name": "stderr",
     "output_type": "stream",
     "text": [
      "/Users/colinhicks/opt/anaconda3/lib/python3.8/site-packages/seaborn/_decorators.py:36: FutureWarning: Pass the following variables as keyword args: x, y. From version 0.12, the only valid positional argument will be `data`, and passing other arguments without an explicit keyword will result in an error or misinterpretation.\n",
      "  warnings.warn(\n"
     ]
    },
    {
     "data": {
      "text/plain": [
       "<AxesSubplot:xlabel='Calories', ylabel='LightlyActiveMinutes'>"
      ]
     },
     "execution_count": 29,
     "metadata": {},
     "output_type": "execute_result"
    },
    {
     "data": {
      "text/plain": [
       "Text(0.5, 1.0, 'Correlation for Calories and State of Active Minutes')"
      ]
     },
     "execution_count": 29,
     "metadata": {},
     "output_type": "execute_result"
    },
    {
     "data": {
      "text/plain": [
       "Text(0.5, 0, 'Calories Burned')"
      ]
     },
     "execution_count": 29,
     "metadata": {},
     "output_type": "execute_result"
    },
    {
     "data": {
      "text/plain": [
       "Text(0, 0.5, 'Active Minutes')"
      ]
     },
     "execution_count": 29,
     "metadata": {},
     "output_type": "execute_result"
    },
    {
     "data": {
      "text/plain": [
       "<matplotlib.legend.Legend at 0x7fa5947fffd0>"
      ]
     },
     "execution_count": 29,
     "metadata": {},
     "output_type": "execute_result"
    },
    {
     "data": {
      "image/png": "[encoded data removed]",
      "text/plain": [
       "<Figure size 432x288 with 1 Axes>"
      ]
     },
     "metadata": {
      "needs_background": "light"
     },
     "output_type": "display_data"
    }
   ],
   "source": [
    "# compare Calories burned by varying degrees of Activity in Minutes\n",
    "x = sa_df_cleaned.Calories\n",
    "vam = sa_df_cleaned.VeryActiveMinutes\n",
    "fam = sa_df_cleaned.FairlyActiveMinutes\n",
    "lam = sa_df_cleaned.LightlyActiveMinutes\n",
    "plt.scatter(x,vam, label='Very Active')\n",
    "plt.scatter(x,fam, label='Fairly Active')\n",
    "plt.scatter(x,lam, label='Lightly Active')\n",
    "sns.regplot(x,vam)\n",
    "sns.regplot(x,fam)\n",
    "sns.regplot(x,lam)\n",
    "plt.title(\"Correlation for Calories and State of Active Minutes\")\n",
    "plt.xlabel(\"Calories Burned\")\n",
    "plt.ylabel(\"Active Minutes\")\n",
    "plt.legend(bbox_to_anchor=(1.01, 1), borderaxespad=0)"
   ]
  },
  {
   "cell_type": "markdown",
   "id": "b9796cb9",
   "metadata": {},
   "source": [
    "**The correlations for Calories over multiple levels of Active Minutes indicates a number of insights.**\n",
    "- One can choose to be in a Very Active or Fairly Active state and still result in a similar amount of Calories Burned. The only stipulation being the time spent in that active state may need to be longer if one is choosing to be Fairly Active rather than Very Active.\n",
    "- There is even potential for Lightly Active Minutes to result in a similar amount of Calories Burned, but one must spend much more time in that state to burn an equal amount of calories compared to the Fairly Active and Very Active states.\n",
    "- The strongest correlation between Calories Burned and Active Minutes is the Very Active State\n",
    "\n",
    "Next we will look at time series data regarding intensities."
   ]
  },
  {
   "cell_type": "code",
   "execution_count": 22,
   "id": "04003479",
   "metadata": {},
   "outputs": [],
   "source": [
    "# visualize average total intensity grouped by time\n",
    "\n",
    "intensity_per_time = intensities.groupby(\n",
    "    ['correcttime'], as_index=False).mean(\n",
    "    {'TotalIntensity'}\n",
    ")"
   ]
  },
  {
   "cell_type": "code",
   "execution_count": 30,
   "id": "033b6959",
   "metadata": {},
   "outputs": [
    {
     "data": {
      "text/plain": [
       "<BarContainer object of 24 artists>"
      ]
     },
     "execution_count": 30,
     "metadata": {},
     "output_type": "execute_result"
    },
    {
     "data": {
      "text/plain": [
       "Text(0.5, 1.0, 'Average Total Intensity over time')"
      ]
     },
     "execution_count": 30,
     "metadata": {},
     "output_type": "execute_result"
    },
    {
     "data": {
      "text/plain": [
       "Text(0.5, 0, 'Average  Total Intensity')"
      ]
     },
     "execution_count": 30,
     "metadata": {},
     "output_type": "execute_result"
    },
    {
     "data": {
      "text/plain": [
       "Text(0, 0.5, 'Time')"
      ]
     },
     "execution_count": 30,
     "metadata": {},
     "output_type": "execute_result"
    },
    {
     "data": {
      "text/plain": [
       "([0,\n",
       "  1,\n",
       "  2,\n",
       "  3,\n",
       "  4,\n",
       "  5,\n",
       "  6,\n",
       "  7,\n",
       "  8,\n",
       "  9,\n",
       "  10,\n",
       "  11,\n",
       "  12,\n",
       "  13,\n",
       "  14,\n",
       "  15,\n",
       "  16,\n",
       "  17,\n",
       "  18,\n",
       "  19,\n",
       "  20,\n",
       "  21,\n",
       "  22,\n",
       "  23],\n",
       " [Text(0, 0, ''),\n",
       "  Text(0, 0, ''),\n",
       "  Text(0, 0, ''),\n",
       "  Text(0, 0, ''),\n",
       "  Text(0, 0, ''),\n",
       "  Text(0, 0, ''),\n",
       "  Text(0, 0, ''),\n",
       "  Text(0, 0, ''),\n",
       "  Text(0, 0, ''),\n",
       "  Text(0, 0, ''),\n",
       "  Text(0, 0, ''),\n",
       "  Text(0, 0, ''),\n",
       "  Text(0, 0, ''),\n",
       "  Text(0, 0, ''),\n",
       "  Text(0, 0, ''),\n",
       "  Text(0, 0, ''),\n",
       "  Text(0, 0, ''),\n",
       "  Text(0, 0, ''),\n",
       "  Text(0, 0, ''),\n",
       "  Text(0, 0, ''),\n",
       "  Text(0, 0, ''),\n",
       "  Text(0, 0, ''),\n",
       "  Text(0, 0, ''),\n",
       "  Text(0, 0, '')])"
      ]
     },
     "execution_count": 30,
     "metadata": {},
     "output_type": "execute_result"
    },
    {
     "data": {
      "text/plain": [
       "<Figure size 1080x288 with 0 Axes>"
      ]
     },
     "execution_count": 30,
     "metadata": {},
     "output_type": "execute_result"
    },
    {
     "data": {
      "image/png": "[encoded data removed]",
      "text/plain": [
       "<Figure size 432x288 with 1 Axes>"
      ]
     },
     "metadata": {
      "needs_background": "light"
     },
     "output_type": "display_data"
    },
    {
     "data": {
      "text/plain": [
       "<Figure size 1080x288 with 0 Axes>"
      ]
     },
     "metadata": {},
     "output_type": "display_data"
    }
   ],
   "source": [
    "x = intensity_per_time.correcttime\n",
    "y = intensity_per_time.TotalIntensity\n",
    "\n",
    "plt.bar(x,y)\n",
    "plt.title('Average Total Intensity over time')\n",
    "plt.xlabel('Average  Total Intensity')\n",
    "plt.ylabel('Time')\n",
    "plt.xticks(rotation=90)\n",
    "plt.figure(figsize=(15, 4))\n",
    "plt.show()"
   ]
  },
  {
   "cell_type": "markdown",
   "id": "48ad16de",
   "metadata": {},
   "source": [
    "- Individuals seem to be most active **between 5:00pm and 7:00pm.**\n",
    "    - Offering a reminder to get up and exercise around 5:00pm may encourage this further\n",
    "    \n",
    "- There is a small spike in activity around Noon.\n",
    "    - Offering a reminder here could be a way to encourage multiple intensity spikes through out the day, leading to less sedentary time and more active minutes.\n",
    "    \n",
    "Next we will look at one of the reasons one may find it important to reduce sedentary time."
   ]
  },
  {
   "cell_type": "code",
   "execution_count": 31,
   "id": "39c99163",
   "metadata": {},
   "outputs": [
    {
     "name": "stderr",
     "output_type": "stream",
     "text": [
      "/Users/colinhicks/opt/anaconda3/lib/python3.8/site-packages/seaborn/_decorators.py:36: FutureWarning: Pass the following variables as keyword args: x, y. From version 0.12, the only valid positional argument will be `data`, and passing other arguments without an explicit keyword will result in an error or misinterpretation.\n",
      "  warnings.warn(\n"
     ]
    },
    {
     "data": {
      "text/plain": [
       "<AxesSubplot:xlabel='SedentaryMinutes', ylabel='TotalMinutesAsleep'>"
      ]
     },
     "execution_count": 31,
     "metadata": {},
     "output_type": "execute_result"
    },
    {
     "data": {
      "text/plain": [
       "Text(0.5, 1.0, 'Sedentary Minutes and Total Minutues Asleep')"
      ]
     },
     "execution_count": 31,
     "metadata": {},
     "output_type": "execute_result"
    },
    {
     "data": {
      "image/png": "[encoded data removed]",
      "text/plain": [
       "<Figure size 432x288 with 1 Axes>"
      ]
     },
     "metadata": {
      "needs_background": "light"
     },
     "output_type": "display_data"
    }
   ],
   "source": [
    "# visualize correlation between Sedentary Minutes and Total Minutues Asleep\n",
    "x = sa_df_cleaned.SedentaryMinutes\n",
    "y = sa_df_cleaned.TotalMinutesAsleep\n",
    "sns.regplot(x,y)\n",
    "plt.title('Sedentary Minutes and Total Minutues Asleep')"
   ]
  },
  {
   "cell_type": "markdown",
   "id": "18e151cd",
   "metadata": {},
   "source": [
    "This negative correlation between Total Minutes Asleep and Sedentary Minutes is one of the more important insights I found in the data.\n",
    "- The more Sedentary Minutes one has throughout the day, the less Total Minutes Asleep one achieves.\n",
    "- Therefore, a recommendation to reduce Sedentary Minutes, or to increase activity of any sort, could drastically increase Total Minutes Asleep, if that is the users goal."
   ]
  },
  {
   "cell_type": "markdown",
   "id": "adbb0912",
   "metadata": {},
   "source": [
    "### Conclusion\n",
    "\n",
    "Collecting data on activity and sleep can equip users with the knowledge on how to achieve more quality sleep and help recover for the following day. While increasing calories burned during the day may seem like a good way to increase duration of sleep, this was not backed by the data we've seen in this collection of samples. What is effective in achieving more time asleep is minimizing sedentary time overall, regardless of what level of intensity replaces that sedentary time. Decreasing sedentary time overall and setting a sleep reminder would be an optimal step towards more quality sleep habits."
   ]
  }
 ],
 "metadata": {
  "kernelspec": {
   "display_name": "Python 3",
   "language": "python",
   "name": "python3"
  },
  "language_info": {
   "codemirror_mode": {
    "name": "ipython",
    "version": 3
   },
   "file_extension": ".py",
   "mimetype": "text/x-python",
   "name": "python",
   "nbconvert_exporter": "python",
   "pygments_lexer": "ipython3",
   "version": "3.8.8"
  }
 },
 "nbformat": 4,
 "nbformat_minor": 5
}
